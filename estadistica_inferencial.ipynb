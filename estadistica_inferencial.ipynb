{
 "cells": [
  {
   "cell_type": "markdown",
   "metadata": {},
   "source": [
    "## Pair programming Estadística Inferencial"
   ]
  },
  {
   "cell_type": "markdown",
   "metadata": {},
   "source": [
    "¿El tiempo que transcurre entre la llegada de autobuses a una parada sigue una distribución exponencial o de Poisson?\n",
    "Es una exponencial porque mide el tiempo entre cada llegada de autobuses\n"
   ]
  },
  {
   "cell_type": "markdown",
   "metadata": {},
   "source": [
    "¿El número de errores en un artículo de noticias sigue una distribución exponencial o de Poisson?\n",
    "Poisson porque es un numero de valores en un rango determinado, el arículo de noticias"
   ]
  },
  {
   "cell_type": "markdown",
   "metadata": {},
   "source": [
    "¿El tiempo que transcurre entre la llegada de solicitudes de servicio en un restaurante sigue una distribución exponencial o de Poisson?\n",
    "Exponencial, ya que mide el tiempo que transcurre entre cada solicitud del cliente "
   ]
  },
  {
   "cell_type": "markdown",
   "metadata": {},
   "source": [
    "¿El número de accidentes de tráfico en una hora en una ciudad sigue una distribución exponencial o de Poisson?\n",
    "Poisson porque es un numero de accidentes de trafico en un rango igual a una hora"
   ]
  },
  {
   "cell_type": "markdown",
   "metadata": {},
   "source": [
    "¿El tiempo entre llegadas de llamadas telefónicas a una central de emergencias sigue una distribución exponencial o de Poisson?\n",
    "Exponencial, ya que mide el tiempo que transcurre entre cada llamadas de emergencia "
   ]
  },
  {
   "cell_type": "markdown",
   "metadata": {},
   "source": [
    "¿El número de clientes que ingresan a una tienda en una hora sigue una distribución exponencial o de Poisson?\n",
    "Poisson porque es un numero de clientes que entran a la tienda en un rango igual a una hora"
   ]
  },
  {
   "cell_type": "markdown",
   "metadata": {},
   "source": [
    "¿El tiempo entre llegadas de correos electrónicos en una bandeja de entrada sigue una distribución exponencial o de Poisson?\n",
    "Exponencial, ya que mide el tiempo entre cada entrada de correo electrónico"
   ]
  },
  {
   "cell_type": "markdown",
   "metadata": {},
   "source": [
    "¿El número de defectos en una línea de producción por día sigue una distribución exponencial o de Poisson?\n",
    "Poisson porque es el numero de defectos por día de una linea de producción"
   ]
  },
  {
   "cell_type": "markdown",
   "metadata": {},
   "source": [
    "¿El tiempo que transcurre entre la llegada de taxis en una parada sigue una distribución exponencial o de Poisson?\n",
    "Exponencial, ya que mide el tiempo entre la llegada de taxis a una parada"
   ]
  },
  {
   "cell_type": "markdown",
   "metadata": {},
   "source": [
    "¿El número de errores de ortografía en un libro de texto sigue una distribución exponencial o de Poisson?\n",
    "Poisson porque es el número de errores de ortografía en un libro de texto "
   ]
  },
  {
   "cell_type": "markdown",
   "metadata": {},
   "source": [
    "\n",
    "2.Ejercicios intervalo de confianza. Al igual que en el caso del ejercicio de la clase invertida, piensa un motivo por el que sería interesante calcular estos intervalos de confianza para la extracción de insights.\n",
    "\n"
   ]
  },
  {
   "cell_type": "markdown",
   "metadata": {},
   "source": [
    "Intervalo de Confianza para la Esperanza de Vida\n",
    "\n",
    "Contexto: Trabajas en una organización de salud global y deseas estimar el intervalo de confianza al 95% para la esperanza de vida promedio de cada continente.\n",
    "\n",
    "Nota: Cuidado porque puede que os salgan algunos nulos, genera un código para que no salgan nulos en los intervalos de confianza."
   ]
  },
  {
   "cell_type": "code",
   "execution_count": 51,
   "metadata": {},
   "outputs": [],
   "source": [
    "# importamos las librerías que necesitamos\n",
    "\n",
    "# Tratamiento de datos\n",
    "# -----------------------------------------------------------------------\n",
    "import pandas as pd\n",
    "import numpy as np\n",
    "\n",
    "# Visualización\n",
    "# ------------------------------------------------------------------------------\n",
    "import matplotlib.pyplot as plt\n",
    "import seaborn as sns\n",
    "import scipy.stats as stats\n",
    "\n",
    "# Evaluar linealidad de las relaciones entre las variables\n",
    "# y la distribución de las variables\n",
    "# ------------------------------------------------------------------------------\n",
    "import scipy.stats as stats\n",
    "from scipy.stats import shapiro,  poisson, chisquare, expon, kstest\n",
    "\n",
    "\n",
    "# Configuración\n",
    "# -----------------------------------------------------------------------\n",
    "pd.set_option('display.max_columns', None) # para poder visualizar todas las columnas de los DataFrames\n",
    "\n",
    "# Gestión de los warnings\n",
    "# -----------------------------------------------------------------------\n",
    "import warnings\n",
    "warnings.filterwarnings(\"ignore\")"
   ]
  },
  {
   "cell_type": "code",
   "execution_count": 52,
   "metadata": {},
   "outputs": [],
   "source": [
    "pd.set_option('display.float_format', '{:.2f}'.format) # para poder visualizar los floats sólo con 2 decimales"
   ]
  },
  {
   "cell_type": "code",
   "execution_count": 53,
   "metadata": {},
   "outputs": [],
   "source": [
    "# Abrimos el archivo df con el que trabajaremos\n",
    "df = pd.read_csv('files/world_data_full_apply_nulos.csv' , index_col = 0)"
   ]
  },
  {
   "cell_type": "code",
   "execution_count": 54,
   "metadata": {},
   "outputs": [
    {
     "data": {
      "text/plain": [
       "Index(['country', 'density', 'abbreviation', 'agricultural_land', 'land_area',\n",
       "       'armed_forces_size', 'birth_rate', 'calling_code', 'capital/major_city',\n",
       "       'co2-emissions', 'cpi', 'cpi_change', 'currency-code', 'fertility_rate',\n",
       "       'forested_area', 'gasoline_price', 'gdp',\n",
       "       'gross_primary_education_enrollment',\n",
       "       'gross_tertiary_education_enrollment', 'infant_mortality',\n",
       "       'largest_city', 'life_expectancy', 'maternal_mortality_ratio',\n",
       "       'minimum_wage', 'official_language', 'out_of_pocket_health_expenditure',\n",
       "       'physicians_per_thousand', 'population',\n",
       "       'population_labor_force_participation', 'tax_revenue', 'total_tax_rate',\n",
       "       'unemployment_rate', 'urban_population', 'latitude', 'longitude',\n",
       "       'continent'],\n",
       "      dtype='object')"
      ]
     },
     "execution_count": 54,
     "metadata": {},
     "output_type": "execute_result"
    }
   ],
   "source": [
    "df.columns"
   ]
  },
  {
   "cell_type": "code",
   "execution_count": 55,
   "metadata": {},
   "outputs": [
    {
     "data": {
      "text/plain": [
       "1.8398404255319156"
      ]
     },
     "execution_count": 55,
     "metadata": {},
     "output_type": "execute_result"
    }
   ],
   "source": [
    "df['physicians_per_thousand'].mean()"
   ]
  },
  {
   "cell_type": "code",
   "execution_count": 56,
   "metadata": {},
   "outputs": [
    {
     "data": {
      "text/html": [
       "<div>\n",
       "<style scoped>\n",
       "    .dataframe tbody tr th:only-of-type {\n",
       "        vertical-align: middle;\n",
       "    }\n",
       "\n",
       "    .dataframe tbody tr th {\n",
       "        vertical-align: top;\n",
       "    }\n",
       "\n",
       "    .dataframe thead th {\n",
       "        text-align: right;\n",
       "    }\n",
       "</style>\n",
       "<table border=\"1\" class=\"dataframe\">\n",
       "  <thead>\n",
       "    <tr style=\"text-align: right;\">\n",
       "      <th></th>\n",
       "      <th>country</th>\n",
       "      <th>density</th>\n",
       "      <th>abbreviation</th>\n",
       "      <th>agricultural_land</th>\n",
       "      <th>land_area</th>\n",
       "      <th>armed_forces_size</th>\n",
       "      <th>birth_rate</th>\n",
       "      <th>calling_code</th>\n",
       "      <th>capital/major_city</th>\n",
       "      <th>co2-emissions</th>\n",
       "      <th>cpi</th>\n",
       "      <th>cpi_change</th>\n",
       "      <th>currency-code</th>\n",
       "      <th>fertility_rate</th>\n",
       "      <th>forested_area</th>\n",
       "      <th>gasoline_price</th>\n",
       "      <th>gdp</th>\n",
       "      <th>gross_primary_education_enrollment</th>\n",
       "      <th>gross_tertiary_education_enrollment</th>\n",
       "      <th>infant_mortality</th>\n",
       "      <th>largest_city</th>\n",
       "      <th>life_expectancy</th>\n",
       "      <th>maternal_mortality_ratio</th>\n",
       "      <th>minimum_wage</th>\n",
       "      <th>official_language</th>\n",
       "      <th>out_of_pocket_health_expenditure</th>\n",
       "      <th>physicians_per_thousand</th>\n",
       "      <th>population</th>\n",
       "      <th>population_labor_force_participation</th>\n",
       "      <th>tax_revenue</th>\n",
       "      <th>total_tax_rate</th>\n",
       "      <th>unemployment_rate</th>\n",
       "      <th>urban_population</th>\n",
       "      <th>latitude</th>\n",
       "      <th>longitude</th>\n",
       "      <th>continent</th>\n",
       "    </tr>\n",
       "  </thead>\n",
       "  <tbody>\n",
       "    <tr>\n",
       "      <th>0</th>\n",
       "      <td>Afghanistan</td>\n",
       "      <td>60.00</td>\n",
       "      <td>AF</td>\n",
       "      <td>58.10</td>\n",
       "      <td>652.23</td>\n",
       "      <td>323.00</td>\n",
       "      <td>32.49</td>\n",
       "      <td>93.00</td>\n",
       "      <td>Kabul</td>\n",
       "      <td>8.67</td>\n",
       "      <td>149.90</td>\n",
       "      <td>2.30</td>\n",
       "      <td>AFN</td>\n",
       "      <td>4.47</td>\n",
       "      <td>2.10</td>\n",
       "      <td>0.70</td>\n",
       "      <td>19101353833.00</td>\n",
       "      <td>104.00</td>\n",
       "      <td>9.70</td>\n",
       "      <td>47.90</td>\n",
       "      <td>Kabul</td>\n",
       "      <td>64.50</td>\n",
       "      <td>638.00</td>\n",
       "      <td>0.43</td>\n",
       "      <td>Pashto</td>\n",
       "      <td>78.40</td>\n",
       "      <td>0.28</td>\n",
       "      <td>NaN</td>\n",
       "      <td>48.90</td>\n",
       "      <td>9.30</td>\n",
       "      <td>71.40</td>\n",
       "      <td>11.12</td>\n",
       "      <td>NaN</td>\n",
       "      <td>33.94</td>\n",
       "      <td>67.71</td>\n",
       "      <td>Asia</td>\n",
       "    </tr>\n",
       "    <tr>\n",
       "      <th>1</th>\n",
       "      <td>Albania</td>\n",
       "      <td>105.00</td>\n",
       "      <td>AL</td>\n",
       "      <td>43.10</td>\n",
       "      <td>28.75</td>\n",
       "      <td>9.00</td>\n",
       "      <td>11.78</td>\n",
       "      <td>355.00</td>\n",
       "      <td>Tirana</td>\n",
       "      <td>4.54</td>\n",
       "      <td>119.05</td>\n",
       "      <td>1.40</td>\n",
       "      <td>ALL</td>\n",
       "      <td>1.62</td>\n",
       "      <td>28.10</td>\n",
       "      <td>1.36</td>\n",
       "      <td>15278077447.00</td>\n",
       "      <td>107.00</td>\n",
       "      <td>55.00</td>\n",
       "      <td>7.80</td>\n",
       "      <td>Tirana</td>\n",
       "      <td>78.50</td>\n",
       "      <td>15.00</td>\n",
       "      <td>1.12</td>\n",
       "      <td>Albanian</td>\n",
       "      <td>56.90</td>\n",
       "      <td>1.20</td>\n",
       "      <td>NaN</td>\n",
       "      <td>55.70</td>\n",
       "      <td>18.60</td>\n",
       "      <td>36.60</td>\n",
       "      <td>12.33</td>\n",
       "      <td>NaN</td>\n",
       "      <td>41.15</td>\n",
       "      <td>20.17</td>\n",
       "      <td>Europe</td>\n",
       "    </tr>\n",
       "    <tr>\n",
       "      <th>2</th>\n",
       "      <td>Algeria</td>\n",
       "      <td>18.00</td>\n",
       "      <td>DZ</td>\n",
       "      <td>17.40</td>\n",
       "      <td>NaN</td>\n",
       "      <td>317.00</td>\n",
       "      <td>24.28</td>\n",
       "      <td>213.00</td>\n",
       "      <td>Algiers</td>\n",
       "      <td>150.01</td>\n",
       "      <td>151.36</td>\n",
       "      <td>2.00</td>\n",
       "      <td>DZD</td>\n",
       "      <td>3.02</td>\n",
       "      <td>0.80</td>\n",
       "      <td>0.28</td>\n",
       "      <td>169988236398.00</td>\n",
       "      <td>109.90</td>\n",
       "      <td>51.40</td>\n",
       "      <td>20.10</td>\n",
       "      <td>Algiers</td>\n",
       "      <td>76.70</td>\n",
       "      <td>112.00</td>\n",
       "      <td>0.95</td>\n",
       "      <td>Arabic</td>\n",
       "      <td>28.10</td>\n",
       "      <td>1.72</td>\n",
       "      <td>NaN</td>\n",
       "      <td>41.20</td>\n",
       "      <td>37.20</td>\n",
       "      <td>66.10</td>\n",
       "      <td>11.70</td>\n",
       "      <td>NaN</td>\n",
       "      <td>28.03</td>\n",
       "      <td>1.66</td>\n",
       "      <td>Africa</td>\n",
       "    </tr>\n",
       "    <tr>\n",
       "      <th>3</th>\n",
       "      <td>Andorra</td>\n",
       "      <td>164.00</td>\n",
       "      <td>AD</td>\n",
       "      <td>40.00</td>\n",
       "      <td>468.00</td>\n",
       "      <td>NaN</td>\n",
       "      <td>7.20</td>\n",
       "      <td>376.00</td>\n",
       "      <td>Andorra la Vella</td>\n",
       "      <td>469.00</td>\n",
       "      <td>NaN</td>\n",
       "      <td>NaN</td>\n",
       "      <td>EUR</td>\n",
       "      <td>1.27</td>\n",
       "      <td>34.00</td>\n",
       "      <td>1.51</td>\n",
       "      <td>3154057987.00</td>\n",
       "      <td>106.40</td>\n",
       "      <td>NaN</td>\n",
       "      <td>2.70</td>\n",
       "      <td>Andorra la Vella</td>\n",
       "      <td>NaN</td>\n",
       "      <td>NaN</td>\n",
       "      <td>6.63</td>\n",
       "      <td>Catalan</td>\n",
       "      <td>36.40</td>\n",
       "      <td>3.33</td>\n",
       "      <td>77.14</td>\n",
       "      <td>NaN</td>\n",
       "      <td>NaN</td>\n",
       "      <td>NaN</td>\n",
       "      <td>NaN</td>\n",
       "      <td>67.87</td>\n",
       "      <td>42.51</td>\n",
       "      <td>1.52</td>\n",
       "      <td>Europe</td>\n",
       "    </tr>\n",
       "    <tr>\n",
       "      <th>4</th>\n",
       "      <td>Angola</td>\n",
       "      <td>26.00</td>\n",
       "      <td>AO</td>\n",
       "      <td>47.50</td>\n",
       "      <td>NaN</td>\n",
       "      <td>117.00</td>\n",
       "      <td>40.73</td>\n",
       "      <td>244.00</td>\n",
       "      <td>Luanda</td>\n",
       "      <td>34.69</td>\n",
       "      <td>261.73</td>\n",
       "      <td>17.10</td>\n",
       "      <td>AOA</td>\n",
       "      <td>5.52</td>\n",
       "      <td>46.30</td>\n",
       "      <td>0.97</td>\n",
       "      <td>94635415870.00</td>\n",
       "      <td>113.50</td>\n",
       "      <td>9.30</td>\n",
       "      <td>51.60</td>\n",
       "      <td>Luanda</td>\n",
       "      <td>60.80</td>\n",
       "      <td>241.00</td>\n",
       "      <td>0.71</td>\n",
       "      <td>Portuguese</td>\n",
       "      <td>33.40</td>\n",
       "      <td>0.21</td>\n",
       "      <td>NaN</td>\n",
       "      <td>77.50</td>\n",
       "      <td>9.20</td>\n",
       "      <td>49.10</td>\n",
       "      <td>6.89</td>\n",
       "      <td>NaN</td>\n",
       "      <td>-11.20</td>\n",
       "      <td>17.87</td>\n",
       "      <td>Africa</td>\n",
       "    </tr>\n",
       "  </tbody>\n",
       "</table>\n",
       "</div>"
      ],
      "text/plain": [
       "       country  density abbreviation  agricultural_land  land_area  \\\n",
       "0  Afghanistan    60.00           AF              58.10     652.23   \n",
       "1      Albania   105.00           AL              43.10      28.75   \n",
       "2      Algeria    18.00           DZ              17.40        NaN   \n",
       "3      Andorra   164.00           AD              40.00     468.00   \n",
       "4       Angola    26.00           AO              47.50        NaN   \n",
       "\n",
       "   armed_forces_size  birth_rate  calling_code capital/major_city  \\\n",
       "0             323.00       32.49         93.00              Kabul   \n",
       "1               9.00       11.78        355.00             Tirana   \n",
       "2             317.00       24.28        213.00            Algiers   \n",
       "3                NaN        7.20        376.00   Andorra la Vella   \n",
       "4             117.00       40.73        244.00             Luanda   \n",
       "\n",
       "   co2-emissions    cpi  cpi_change currency-code  fertility_rate  \\\n",
       "0           8.67 149.90        2.30           AFN            4.47   \n",
       "1           4.54 119.05        1.40           ALL            1.62   \n",
       "2         150.01 151.36        2.00           DZD            3.02   \n",
       "3         469.00    NaN         NaN           EUR            1.27   \n",
       "4          34.69 261.73       17.10           AOA            5.52   \n",
       "\n",
       "   forested_area  gasoline_price             gdp  \\\n",
       "0           2.10            0.70  19101353833.00   \n",
       "1          28.10            1.36  15278077447.00   \n",
       "2           0.80            0.28 169988236398.00   \n",
       "3          34.00            1.51   3154057987.00   \n",
       "4          46.30            0.97  94635415870.00   \n",
       "\n",
       "   gross_primary_education_enrollment  gross_tertiary_education_enrollment  \\\n",
       "0                              104.00                                 9.70   \n",
       "1                              107.00                                55.00   \n",
       "2                              109.90                                51.40   \n",
       "3                              106.40                                  NaN   \n",
       "4                              113.50                                 9.30   \n",
       "\n",
       "   infant_mortality      largest_city  life_expectancy  \\\n",
       "0             47.90             Kabul            64.50   \n",
       "1              7.80            Tirana            78.50   \n",
       "2             20.10           Algiers            76.70   \n",
       "3              2.70  Andorra la Vella              NaN   \n",
       "4             51.60            Luanda            60.80   \n",
       "\n",
       "   maternal_mortality_ratio  minimum_wage official_language  \\\n",
       "0                    638.00          0.43            Pashto   \n",
       "1                     15.00          1.12          Albanian   \n",
       "2                    112.00          0.95            Arabic   \n",
       "3                       NaN          6.63           Catalan   \n",
       "4                    241.00          0.71        Portuguese   \n",
       "\n",
       "   out_of_pocket_health_expenditure  physicians_per_thousand  population  \\\n",
       "0                             78.40                     0.28         NaN   \n",
       "1                             56.90                     1.20         NaN   \n",
       "2                             28.10                     1.72         NaN   \n",
       "3                             36.40                     3.33       77.14   \n",
       "4                             33.40                     0.21         NaN   \n",
       "\n",
       "   population_labor_force_participation  tax_revenue  total_tax_rate  \\\n",
       "0                                 48.90         9.30           71.40   \n",
       "1                                 55.70        18.60           36.60   \n",
       "2                                 41.20        37.20           66.10   \n",
       "3                                   NaN          NaN             NaN   \n",
       "4                                 77.50         9.20           49.10   \n",
       "\n",
       "   unemployment_rate  urban_population  latitude  longitude continent  \n",
       "0              11.12               NaN     33.94      67.71      Asia  \n",
       "1              12.33               NaN     41.15      20.17    Europe  \n",
       "2              11.70               NaN     28.03       1.66    Africa  \n",
       "3                NaN             67.87     42.51       1.52    Europe  \n",
       "4               6.89               NaN    -11.20      17.87    Africa  "
      ]
     },
     "execution_count": 56,
     "metadata": {},
     "output_type": "execute_result"
    }
   ],
   "source": [
    "df.head()"
   ]
  },
  {
   "cell_type": "code",
   "execution_count": 57,
   "metadata": {},
   "outputs": [
    {
     "data": {
      "text/plain": [
       "0     64.50\n",
       "1     78.50\n",
       "2     76.70\n",
       "3       NaN\n",
       "4     60.80\n",
       "       ... \n",
       "190   72.10\n",
       "191   75.30\n",
       "192   66.10\n",
       "193   63.50\n",
       "194   61.20\n",
       "Name: life_expectancy, Length: 195, dtype: float64"
      ]
     },
     "execution_count": 57,
     "metadata": {},
     "output_type": "execute_result"
    }
   ],
   "source": [
    "df[\"life_expectancy\"]"
   ]
  },
  {
   "cell_type": "code",
   "execution_count": 58,
   "metadata": {},
   "outputs": [
    {
     "data": {
      "text/plain": [
       "continent\n",
       "Africa            62.65\n",
       "Asia              72.70\n",
       "Central America   73.61\n",
       "Europe            78.12\n",
       "North America     79.12\n",
       "Oceania           70.05\n",
       "South America     73.74\n",
       "Name: life_expectancy, dtype: float64"
      ]
     },
     "metadata": {},
     "output_type": "display_data"
    },
    {
     "data": {
      "text/plain": [
       "'-------------'"
      ]
     },
     "metadata": {},
     "output_type": "display_data"
    },
    {
     "data": {
      "text/plain": [
       "continent\n",
       "Africa            64.80\n",
       "Asia              74.86\n",
       "Central America   75.77\n",
       "Europe            80.28\n",
       "North America     81.28\n",
       "Oceania           72.20\n",
       "South America     75.89\n",
       "Name: life_expectancy, dtype: float64"
      ]
     },
     "metadata": {},
     "output_type": "display_data"
    }
   ],
   "source": [
    "media=df.groupby(\"continent\")[\"life_expectancy\"].mean()\n",
    "error=stats.sem(df[\"life_expectancy\"].dropna())\n",
    "\n",
    "nivel_confi=0.95\n",
    "grados_libertad=len(df[\"life_expectancy\"]) - 1\n",
    "\n",
    "valor_crit=stats.t.ppf((1 + nivel_confi)/2, df= grados_libertad)\n",
    "\n",
    "limite_inf= media - valor_crit * error\n",
    "limite_sup= media + valor_crit * error\n",
    "\n",
    "display(limite_inf, \"-------------\", limite_sup)"
   ]
  },
  {
   "cell_type": "markdown",
   "metadata": {},
   "source": [
    "Hacemos este estudio para detectar las discrepancias y disparidades que existe entre distintos continentes y evaluar los resultados de programas de salud impartidos por la organización para llevar a cabo una mejora en el continente africano. "
   ]
  },
  {
   "cell_type": "markdown",
   "metadata": {},
   "source": [
    "Intervalo de Confianza para el PIB\n",
    "\n",
    "Contexto: Eres una economista y quieres calcular el intervalo de confianza al 90% para el Producto Interno Bruto (PIB) de los continentes."
   ]
  },
  {
   "cell_type": "code",
   "execution_count": 59,
   "metadata": {},
   "outputs": [
    {
     "data": {
      "text/plain": [
       "continent\n",
       "Africa             -212336950727.35\n",
       "Asia                578777755779.65\n",
       "Central America    -169937582168.12\n",
       "Europe              228330680433.02\n",
       "North America     11323645304888.78\n",
       "Oceania            -141628954118.93\n",
       "South America        40016175677.55\n",
       "Name: gdp, dtype: float64"
      ]
     },
     "metadata": {},
     "output_type": "display_data"
    },
    {
     "data": {
      "text/plain": [
       "'-------------'"
      ]
     },
     "metadata": {},
     "output_type": "display_data"
    },
    {
     "data": {
      "text/plain": [
       "continent\n",
       "Africa              304498069015.09\n",
       "Asia               1095612775522.08\n",
       "Central America     346897437574.32\n",
       "Europe              745165700175.46\n",
       "North America     11840480324631.22\n",
       "Oceania             375206065623.50\n",
       "South America       556851195419.99\n",
       "Name: gdp, dtype: float64"
      ]
     },
     "metadata": {},
     "output_type": "display_data"
    }
   ],
   "source": [
    "media=df.groupby(\"continent\")[\"gdp\"].mean()\n",
    "error=stats.sem(df[\"gdp\"].dropna())\n",
    "\n",
    "nivel_confi=0.90\n",
    "grados_libertad=len(df[\"gdp\"]) - 1\n",
    "\n",
    "valor_crit=stats.t.ppf((1 + nivel_confi)/2, df= grados_libertad)\n",
    "\n",
    "limite_inf= media - valor_crit * error\n",
    "limite_sup= media + valor_crit * error\n",
    "\n",
    "display(limite_inf, \"-------------\", limite_sup)"
   ]
  },
  {
   "cell_type": "markdown",
   "metadata": {},
   "source": [
    "Puede ser útil  para: \n",
    "-Comparar el desempeño económico entre continentes\n",
    "-Planificación económica y política\n",
    "-Estrategias de inversión en comercio internacional"
   ]
  },
  {
   "cell_type": "markdown",
   "metadata": {},
   "source": [
    "Intervalo de Confianza para la Tasa de Natalidad\n",
    "\n",
    "Contexto: Trabajas en una agencia gubernamental que se ocupa de cuestiones demográficas y deseas determinar el intervalo de confianza al 99% para la tasa de natalidad promedio en Asia."
   ]
  },
  {
   "cell_type": "code",
   "execution_count": 60,
   "metadata": {},
   "outputs": [],
   "source": [
    "df_filtrado= df[df[\"continent\"]== \"Asia\"]"
   ]
  },
  {
   "cell_type": "code",
   "execution_count": 61,
   "metadata": {},
   "outputs": [
    {
     "data": {
      "text/plain": [
       "16.143072383008928"
      ]
     },
     "metadata": {},
     "output_type": "display_data"
    },
    {
     "data": {
      "text/plain": [
       "'-------------'"
      ]
     },
     "metadata": {},
     "output_type": "display_data"
    },
    {
     "data": {
      "text/plain": [
       "21.479200344263802"
      ]
     },
     "metadata": {},
     "output_type": "display_data"
    }
   ],
   "source": [
    "media=df_filtrado[\"birth_rate\"].mean()\n",
    "error=stats.sem(df_filtrado[\"birth_rate\"].dropna())\n",
    "\n",
    "nivel_confi=0.99\n",
    "grados_libertad=len(df_filtrado[\"birth_rate\"]) - 1\n",
    "\n",
    "valor_crit=stats.t.ppf((1 + nivel_confi)/2, df= grados_libertad)\n",
    "\n",
    "limite_inf= media - valor_crit * error\n",
    "limite_sup= media + valor_crit * error\n",
    "\n",
    "display(limite_inf, \"-------------\", limite_sup)"
   ]
  },
  {
   "cell_type": "markdown",
   "metadata": {},
   "source": [
    "Puede ser útil para:\n",
    "- Planificar políticas de salud y bienestar\n",
    "- Evaluar programas de planificación familiar\n",
    "- Realizar proyecciones demográficas"
   ]
  },
  {
   "cell_type": "markdown",
   "metadata": {},
   "source": [
    "Intervalo de Confianza para la Tasa de Desempleo\n",
    "\n",
    "Contexto: Eres un analista de políticas públicas y deseas calcular el intervalo de confianza al 95% para la tasa de desempleo promedio en los países de Oceanía."
   ]
  },
  {
   "cell_type": "code",
   "execution_count": 62,
   "metadata": {},
   "outputs": [],
   "source": [
    "df_filtrado2= df[df[\"continent\"]== \"Oceania\"]"
   ]
  },
  {
   "cell_type": "code",
   "execution_count": 63,
   "metadata": {},
   "outputs": [
    {
     "data": {
      "text/plain": [
       "1.9048258446669395"
      ]
     },
     "metadata": {},
     "output_type": "display_data"
    },
    {
     "data": {
      "text/plain": [
       "'-------------'"
      ]
     },
     "metadata": {},
     "output_type": "display_data"
    },
    {
     "data": {
      "text/plain": [
       "5.68267415533306"
      ]
     },
     "metadata": {},
     "output_type": "display_data"
    }
   ],
   "source": [
    "media=df_filtrado2[\"unemployment_rate\"].mean()\n",
    "error=stats.sem(df_filtrado2[\"unemployment_rate\"].dropna())\n",
    "\n",
    "nivel_confi=0.95\n",
    "grados_libertad=len(df_filtrado2[\"unemployment_rate\"]) - 1\n",
    "\n",
    "valor_crit=stats.t.ppf((1 + nivel_confi)/2, df= grados_libertad)\n",
    "\n",
    "limite_inf= media - valor_crit * error\n",
    "limite_sup= media + valor_crit * error\n",
    "\n",
    "display(limite_inf, \"-------------\", limite_sup)"
   ]
  },
  {
   "cell_type": "markdown",
   "metadata": {},
   "source": [
    "Puederser útil para evaluar el mercado laboral asi como formular políticas laborales y proyecciones sobre asignación de recursos"
   ]
  },
  {
   "cell_type": "markdown",
   "metadata": {},
   "source": [
    "Intervalo de Confianza para la Tasa de Impuestos\n",
    "\n",
    "Contexto: Trabajas en un ministerio de finanzas y deseas estimar el intervalo de confianza al 90% para la tasa de impuestos promedio en los países de África."
   ]
  },
  {
   "cell_type": "code",
   "execution_count": 64,
   "metadata": {},
   "outputs": [],
   "source": [
    "df_filtrado3= df[df[\"continent\"]== \"Africa\"]"
   ]
  },
  {
   "cell_type": "code",
   "execution_count": 65,
   "metadata": {},
   "outputs": [
    {
     "data": {
      "text/plain": [
       "41.00148105560847"
      ]
     },
     "metadata": {},
     "output_type": "display_data"
    },
    {
     "data": {
      "text/plain": [
       "'-------------'"
      ]
     },
     "metadata": {},
     "output_type": "display_data"
    },
    {
     "data": {
      "text/plain": [
       "54.53969541497974"
      ]
     },
     "metadata": {},
     "output_type": "display_data"
    }
   ],
   "source": [
    "media=df_filtrado3[\"total_tax_rate\"].mean()\n",
    "error=stats.sem(df_filtrado3[\"total_tax_rate\"].dropna())\n",
    "\n",
    "nivel_confi=0.90\n",
    "grados_libertad=len(df_filtrado3[\"total_tax_rate\"]) - 1\n",
    "\n",
    "valor_crit=stats.t.ppf((1 + nivel_confi)/2, df= grados_libertad)\n",
    "\n",
    "limite_inf= media - valor_crit * error\n",
    "limite_sup= media + valor_crit * error\n",
    "\n",
    "display(limite_inf, \"-------------\", limite_sup)"
   ]
  },
  {
   "cell_type": "markdown",
   "metadata": {},
   "source": [
    "Puede ser util para llevar a cabo políticas fiscales efectivas y evaluar la competitividad tributaria"
   ]
  },
  {
   "cell_type": "markdown",
   "metadata": {},
   "source": [
    "Ejercicios prueba de hipótesis: Hasta ahora en la lección y en los ejercicios de la clase invertida os hemos propuesto un contexto y unas hipótesis para entender que es la prueba de hipótesis. Ahora es tu turno, tienes que pensar en 2 hipótesis que quieras aceptar o rechazar usando una prueba de hipótesis en base a los datos que tenemos."
   ]
  },
  {
   "cell_type": "code",
   "execution_count": 66,
   "metadata": {},
   "outputs": [],
   "source": [
    "# vamos a definir una función para poder hacer el t-test de Student\n",
    "def prueba_hipotesis(*args):\n",
    "    \n",
    "    # lo primero que tenemos que hacer es mirar si las varianzas son iguales o no\n",
    "    if len(args) == 2:\n",
    "        p_valor_varianza = stats.levene(*args, center = \"median\")[1]\n",
    "    else:\n",
    "        p_valor_varianza = stats.bartlett(*args)[1]\n",
    "    \n",
    "    if p_valor_varianza > 0.05:\n",
    "        # realizamos la prueba t de Student\n",
    "        t_stat, p_valor = stats.ttest_ind(*args, equal_var=True)\n",
    "    else:\n",
    "        t_stat, p_valor = stats.ttest_ind(*args, equal_var=False)\n",
    "        \n",
    "    # Establecemos un nivel de significancia (alfa)\n",
    "    alfa = 0.05\n",
    "    # comparamos el p-valor con el nivel de significancia\n",
    "    if p_valor < alfa:\n",
    "        print(\"Rechazamos la hipótesis nula.\")\n",
    "        print(\"Hay una diferencia significativa entre los dos grupos.\")\n",
    "    else:\n",
    "        print(\"No podemos rechazar la hipótesis nula.\")\n",
    "        print(\"No hay evidencia suficiente para afirmar una diferencia significativa entre los dos grupos.\")"
   ]
  },
  {
   "cell_type": "code",
   "execution_count": 67,
   "metadata": {},
   "outputs": [
    {
     "name": "stdout",
     "output_type": "stream",
     "text": [
      "No podemos rechazar la hipótesis nula.\n",
      "No hay evidencia suficiente para afirmar una diferencia significativa entre los dos grupos.\n"
     ]
    }
   ],
   "source": [
    "grupo_calificado = df[df['physicians_per_thousand'] > 1.83 ]['life_expectancy']\n",
    "grupo_menos_calificado = df[df['physicians_per_thousand'] <= 1.83]['life_expectancy']\n",
    "prueba_hipotesis(grupo_calificado, grupo_menos_calificado)"
   ]
  },
  {
   "cell_type": "markdown",
   "metadata": {},
   "source": [
    "Hemos cogido variables 'physicians_per_thousand'/ medicos por mil habitantes y 'life_expectancy'/ esperanza de vida \n",
    "H0=  No hay diferencia significativa en el número promedio de esperanza de vida entre países con más cantidad de médicos por mil habitantes y países con menor cantidad de médicos por mil habitantes. \n",
    "H1= Existe una diferencia significativa en el número promedio de esperanza de vida entre países con más cantidad de médicos por mil habitantes y países con menor cantidad de médicos por mil habitantes.\n",
    "\n",
    "Por lo que se muestran paises que están por encima de la media de medicos por habitantes 1.83 y los que están por debajo y el resultado es que no podemos rechazar la hipótesis nula, no se prueba la alternativa "
   ]
  },
  {
   "cell_type": "code",
   "execution_count": 68,
   "metadata": {},
   "outputs": [
    {
     "data": {
      "text/plain": [
       "16.573964497041416"
      ]
     },
     "execution_count": 68,
     "metadata": {},
     "output_type": "execute_result"
    }
   ],
   "source": [
    "df[\"tax_revenue\"].mean()"
   ]
  },
  {
   "cell_type": "code",
   "execution_count": 70,
   "metadata": {},
   "outputs": [
    {
     "name": "stdout",
     "output_type": "stream",
     "text": [
      "No podemos rechazar la hipótesis nula.\n",
      "No hay evidencia suficiente para afirmar una diferencia significativa entre los dos grupos.\n"
     ]
    }
   ],
   "source": [
    "grupo_calificado1 = df[df['tax_revenue'] > 16.57 ]['gdp']\n",
    "grupo_menos_calificado1 = df[df['tax_revenue'] <= 16.57]['gdp']\n",
    "prueba_hipotesis(grupo_calificado1, grupo_menos_calificado1)"
   ]
  },
  {
   "cell_type": "markdown",
   "metadata": {},
   "source": [
    "Hemos cogido variables 'tax_revenue'/ Tasa de impuesto y 'gdp'/ PIB\n",
    "\n",
    "H0=  No hay diferencia significativa en el PIB entre el número promedio de paises con mayor tasa de impuestos y paises con menor tasa de impuestos \n",
    "H1=  Existe una diferencia significativa en el número promedio de PIB entre países con mayor tasa de impuestos y países con menor tasa de impuestos.\n",
    "\n",
    "Se muestran paises que están por encima de la media de tasa de impuestos 16.57 y los que están por debajo y el resultado es que no podemos rechazar la hipótesis nula, no se prueba la alternativa"
   ]
  }
 ],
 "metadata": {
  "kernelspec": {
   "display_name": "base",
   "language": "python",
   "name": "python3"
  },
  "language_info": {
   "codemirror_mode": {
    "name": "ipython",
    "version": 3
   },
   "file_extension": ".py",
   "mimetype": "text/x-python",
   "name": "python",
   "nbconvert_exporter": "python",
   "pygments_lexer": "ipython3",
   "version": "3.9.7"
  }
 },
 "nbformat": 4,
 "nbformat_minor": 2
}
